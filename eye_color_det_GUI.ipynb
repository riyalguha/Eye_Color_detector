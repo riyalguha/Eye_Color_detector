{
 "cells": [
  {
   "cell_type": "code",
   "execution_count": 1,
   "metadata": {},
   "outputs": [],
   "source": [
    "import cv2\n",
    "import numpy as np\n",
    "from collections import Counter\n",
    "import tkinter as tk\n",
    "from tkinter import filedialog, messagebox\n",
    "from PIL import Image, ImageTk\n",
    "from scipy.stats import mode"
   ]
  },
  {
   "cell_type": "code",
   "execution_count": 2,
   "metadata": {},
   "outputs": [],
   "source": [
    "# Function to get the dominant color\n",
    "def get_dominant_color(image):\n",
    "    pixels = image.reshape(-1, image.shape[-1])\n",
    "    dominant_color = mode(pixels, axis=0, keepdims=True).mode.flatten()\n",
    "    return dominant_color"
   ]
  },
  {
   "cell_type": "code",
   "execution_count": 19,
   "metadata": {},
   "outputs": [],
   "source": [
    "# Function to get the eye color\n",
    "def get_eye_color(dominant_color):\n",
    "    color_ranges = {\n",
    "        'black': ([10, 10, 10], [40, 40, 40]),\n",
    "        'blue': ([90, 0, 0], [255, 95, 95]),\n",
    "        'green': ([0, 90, 0], [95, 255, 95]),\n",
    "        'brown': ([0, 0, 90], [95, 95, 255]),\n",
    "        'hazel': ([40, 50, 0], [180, 160, 50]),\n",
    "        'amber': ([40, 60, 80], [180, 150, 120]),\n",
    "        'gray': ([40, 40, 40], [180, 180, 180]),\n",
    "        'violet': ([100, 0, 100], [180, 95, 255]),\n",
    "        'red': ([120, 0, 0], [255, 40, 40])\n",
    "    }\n",
    "\n",
    "    for color, (lower, upper) in color_ranges.items():\n",
    "        for color_val in dominant_color:\n",
    "            if np.all(color_val >= lower) and np.all(color_val <= upper):\n",
    "                return color\n",
    "\n",
    "    return 'black'"
   ]
  },
  {
   "cell_type": "code",
   "execution_count": 13,
   "metadata": {},
   "outputs": [],
   "source": [
    "def select_image():\n",
    "    file_path = filedialog.askopenfilename(filetypes=[(\"Image files\", \"*.jpg;*.jpeg;*.png\")])\n",
    "    if file_path:\n",
    "        detect_eye_color(file_path)\n",
    "    else:\n",
    "        messagebox.showinfo(\"Error\", \"No image selected.\")"
   ]
  },
  {
   "cell_type": "code",
   "execution_count": 14,
   "metadata": {},
   "outputs": [],
   "source": [
    "# Function to detect eye color\n",
    "def detect_eye_color(image_path):\n",
    "    image = cv2.imread(image_path)\n",
    "    gray = cv2.cvtColor(image, cv2.COLOR_BGR2GRAY)\n",
    "    eye_cascade = cv2.CascadeClassifier('haarcascade_eye.xml')\n",
    "    eyes = eye_cascade.detectMultiScale(gray, scaleFactor=1.1, minNeighbors=5, minSize=(30, 30))\n",
    "    \n",
    "    if len(eyes) > 0:\n",
    "        (x, y, w, h) = eyes[0]\n",
    "        eye_region = gray[y:y+h, x:x+w]\n",
    "        eye_dominant_color = get_dominant_color(eye_region)\n",
    "        eye_color = get_eye_color(eye_dominant_color)\n",
    "        result_label.config(text=\"Detected eye color: \" + eye_color)\n",
    "    else:\n",
    "        result_label.config(text=\"No eyes detected.\")"
   ]
  },
  {
   "cell_type": "code",
   "execution_count": 15,
   "metadata": {},
   "outputs": [
    {
     "data": {
      "text/plain": [
       "''"
      ]
     },
     "execution_count": 15,
     "metadata": {},
     "output_type": "execute_result"
    }
   ],
   "source": [
    "# Create the Tkinter GUI\n",
    "window = tk.Tk()\n",
    "window.title(\"Eye Color Detection\")\n",
    "window.geometry(\"400x300\")"
   ]
  },
  {
   "cell_type": "code",
   "execution_count": 16,
   "metadata": {},
   "outputs": [],
   "source": [
    "# Create a button to select an image\n",
    "select_button = tk.Button(window, text=\"Select Image\", command=select_image)\n",
    "select_button.pack(pady=20)"
   ]
  },
  {
   "cell_type": "code",
   "execution_count": 17,
   "metadata": {},
   "outputs": [],
   "source": [
    "# Create a label to display the result\n",
    "result_label = tk.Label(window, text=\"Detected eye color:\")\n",
    "result_label.pack()"
   ]
  },
  {
   "cell_type": "code",
   "execution_count": 18,
   "metadata": {},
   "outputs": [],
   "source": [
    "# Run the Tkinter event loop\n",
    "window.mainloop()"
   ]
  },
  {
   "cell_type": "code",
   "execution_count": null,
   "metadata": {},
   "outputs": [],
   "source": []
  }
 ],
 "metadata": {
  "kernelspec": {
   "display_name": "Python 3",
   "language": "python",
   "name": "python3"
  },
  "language_info": {
   "codemirror_mode": {
    "name": "ipython",
    "version": 3
   },
   "file_extension": ".py",
   "mimetype": "text/x-python",
   "name": "python",
   "nbconvert_exporter": "python",
   "pygments_lexer": "ipython3",
   "version": "3.11.2"
  },
  "orig_nbformat": 4
 },
 "nbformat": 4,
 "nbformat_minor": 2
}
