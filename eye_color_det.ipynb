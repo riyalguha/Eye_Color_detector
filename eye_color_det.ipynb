{
 "cells": [
  {
   "cell_type": "code",
   "execution_count": 9,
   "metadata": {},
   "outputs": [],
   "source": [
    "import cv2\n",
    "import numpy as np\n",
    "from collections import Counter\n",
    "import random\n",
    "from scipy.stats import mode"
   ]
  },
  {
   "cell_type": "code",
   "execution_count": 10,
   "metadata": {},
   "outputs": [],
   "source": [
    "def get_dominant_color(image):\n",
    "    pixels = image.reshape(-1, image.shape[-1])\n",
    "    dominant_color = mode(pixels, axis=0, keepdims=True).mode.flatten()\n",
    "    return dominant_color"
   ]
  },
  {
   "cell_type": "code",
   "execution_count": 11,
   "metadata": {},
   "outputs": [],
   "source": [
    "def get_eye_color(dominant_color):\n",
    "    color_ranges = {\n",
    "        'blue': ([90, 0, 0], [255, 95, 95]),\n",
    "        'green': ([0, 90, 0], [95, 255, 95]),\n",
    "        'brown': ([0, 0, 90], [95, 95, 255]),\n",
    "        'hazel': ([40, 50, 0], [180, 160, 50]),\n",
    "        'amber': ([40, 60, 80], [180, 150, 120]),\n",
    "        'gray': ([40, 40, 40], [180, 180, 180]),\n",
    "        'violet': ([100, 0, 100], [180, 95, 255]),\n",
    "        'black': ([10, 10, 10], [40, 40, 40]),\n",
    "        'red': ([120, 0, 0], [255, 40, 40])\n",
    "    }\n",
    "    \n",
    "    for color, (lower, upper) in color_ranges.items():\n",
    "        for color_val in dominant_color:\n",
    "            if np.all(color_val >= lower) and np.all(color_val <= upper):\n",
    "                return color\n",
    "\n",
    "    return 'unknown'\n"
   ]
  },
  {
   "cell_type": "code",
   "execution_count": 12,
   "metadata": {},
   "outputs": [],
   "source": [
    "image = cv2.imread('1_1_0_20170109192245647.jpg.chip.jpg')"
   ]
  },
  {
   "cell_type": "code",
   "execution_count": 13,
   "metadata": {},
   "outputs": [],
   "source": [
    "gray = cv2.cvtColor(image, cv2.COLOR_BGR2GRAY)"
   ]
  },
  {
   "cell_type": "code",
   "execution_count": 14,
   "metadata": {},
   "outputs": [],
   "source": [
    "eye_cascade = cv2.CascadeClassifier('haarcascade_eye.xml')\n",
    "eyes = eye_cascade.detectMultiScale(gray, scaleFactor=1.1, minNeighbors=5, minSize=(30, 30))\n"
   ]
  },
  {
   "cell_type": "code",
   "execution_count": 15,
   "metadata": {},
   "outputs": [
    {
     "name": "stdout",
     "output_type": "stream",
     "text": [
      "Detected eye color: gray\n"
     ]
    }
   ],
   "source": [
    "if len(eyes) > 0:\n",
    "    (x, y, w, h) = eyes[0]\n",
    "    eye_region = gray[y:y+h, x:x+w]\n",
    "    eye_dominant_color = get_dominant_color(eye_region)\n",
    "    eye_color = get_eye_color(eye_dominant_color)\n",
    "    print(\"Detected eye color:\", eye_color)\n"
   ]
  },
  {
   "cell_type": "code",
   "execution_count": null,
   "metadata": {},
   "outputs": [],
   "source": [
    "\n",
    "\n"
   ]
  },
  {
   "cell_type": "code",
   "execution_count": null,
   "metadata": {},
   "outputs": [],
   "source": []
  },
  {
   "cell_type": "code",
   "execution_count": null,
   "metadata": {},
   "outputs": [],
   "source": []
  }
 ],
 "metadata": {
  "kernelspec": {
   "display_name": "Python 3",
   "language": "python",
   "name": "python3"
  },
  "language_info": {
   "codemirror_mode": {
    "name": "ipython",
    "version": 3
   },
   "file_extension": ".py",
   "mimetype": "text/x-python",
   "name": "python",
   "nbconvert_exporter": "python",
   "pygments_lexer": "ipython3",
   "version": "3.11.2"
  },
  "orig_nbformat": 4
 },
 "nbformat": 4,
 "nbformat_minor": 2
}
